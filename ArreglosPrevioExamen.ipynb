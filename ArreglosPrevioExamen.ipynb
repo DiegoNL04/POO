{
  "cells": [
    {
      "cell_type": "markdown",
      "metadata": {
        "id": "view-in-github",
        "colab_type": "text"
      },
      "source": [
        "<a href=\"https://colab.research.google.com/github/DiegoNL04/POO/blob/main/ArreglosPrevioExamen.ipynb\" target=\"_parent\"><img src=\"https://colab.research.google.com/assets/colab-badge.svg\" alt=\"Open In Colab\"/></a>"
      ]
    },
    {
      "cell_type": "code",
      "execution_count": null,
      "metadata": {
        "colab": {
          "background_save": true,
          "base_uri": "https://localhost:8080/"
        },
        "id": "rq6goSmkDKn0",
        "outputId": "c8cf5f38-a164-4936-d1c8-1c9218669b0d"
      },
      "outputs": [
        {
          "name": "stdout",
          "output_type": "stream",
          "text": [
            "ArregloA:\n",
            "\n",
            "[5, 6, 9, 67]\n",
            "[3, 23, 89, 44]\n",
            "[45, 12, 7, 56]\n",
            "[44, 45, 54, 34]\n",
            "\n",
            "ArregloB:\n",
            "\n",
            "[35, 67, 7, 6]\n",
            "[43, 63, 8, 4]\n",
            "[5, 52, 4, 6]\n",
            "[4, 65, 5, 4]\n",
            "\n"
          ]
        }
      ],
      "source": [
        "ArregloA=[[5,6,9,67],[3,23,89,44],[45,12,7,56],[44,45,54,34]]\n",
        "ArregloB=[[35,67,7,6],[43,63,8,4],[5,52,4,6],[4,65,5,4]]\n",
        "ArregloC=[]\n",
        "print(\"ArregloA:\")\n",
        "print()\n",
        "print(ArregloA[0])\n",
        "print(ArregloA[1])\n",
        "print(ArregloA[2])\n",
        "print(ArregloA[3])\n",
        "print()\n",
        "print(\"ArregloB:\")\n",
        "print()\n",
        "print(ArregloB[0])\n",
        "print(ArregloB[1])\n",
        "print(ArregloB[2])\n",
        "print(ArregloB[3])\n",
        "print()\n",
        "\n",
        "opc=int(input(\"\"\"Elije una opcion\n",
        "1.Suma\n",
        "2.Resta\n",
        "----->\"\"\"))\n",
        "if opc==1:\n",
        "  ArregloC.append(ArregloA+ArregloB)\n",
        "  print(ArregloC)\n",
        "\n",
        "elif opc==2:\n",
        "  ArregloC.append(ArregloA-ArregloB)\n",
        "  print(ArregloC)\n",
        "else:\n",
        "  print(\"Opcion no valida\")\n",
        "\n",
        "\n",
        "\n"
      ]
    },
    {
      "cell_type": "code",
      "execution_count": null,
      "metadata": {
        "colab": {
          "base_uri": "https://localhost:8080/"
        },
        "id": "tuZwdv8EUSmk",
        "outputId": "bd53716a-7d50-437b-df72-543ad752ff67"
      },
      "outputs": [
        {
          "name": "stdout",
          "output_type": "stream",
          "text": [
            "5 6 9 67 \n",
            "3 23 89 44 \n",
            "45 12 7 56 \n",
            "44 45 54 34 \n",
            "35 67 7 6 \n",
            "43 63 8 4 \n",
            "5 52 4 6 \n",
            "4 65 5 4 \n",
            "40 73 16 73 \n",
            "46 86 97 48 \n",
            "50 64 11 62 \n",
            "48 110 59 38 \n",
            "-30 -61 2 61 \n",
            "-40 -40 81 40 \n",
            "40 -40 3 50 \n",
            "40 -20 49 30 \n"
          ]
        }
      ],
      "source": [
        "a=[[5,6,9,67],[3,23,89,44],[45,12,7,56],[44,45,54,34]]\n",
        "b=[[35,67,7,6],[43,63,8,4],[5,52,4,6],[4,65,5,4]]\n",
        "c=[[0,0,0,0],[0,0,0,0],[0,0,0,0],[0,0,0,0]]\n",
        "d=[[0,0,0,0],[0,0,0,0],[0,0,0,0],[0,0,0,0]]\n",
        "for i in range(len(a)):\n",
        "  for j in range(len(a[i])):\n",
        "    r=a[i][j]+b[i][j]\n",
        "    c[i][j]=r\n",
        "    r=a[i][j]-b[i][j]\n",
        "    d[i][j]=r\n",
        "\n",
        "for i in range(len(a)):\n",
        "  for j in range(len(a[i])):\n",
        "    print(a[i][j],end=\" \")\n",
        "  print(\"\")\n",
        "\n",
        "for i in range(len(b)):\n",
        "  for j in range(len(b[i])):\n",
        "    print(b[i][j],end=\" \")\n",
        "  print(\"\")\n",
        "\n",
        "for i in range(len(c)):\n",
        "  for j in range(len(c[i])):\n",
        "    print(c[i][j],end=\" \")\n",
        "  print(\"\")\n",
        "\n",
        "for i in range(len(d)):\n",
        "  for j in range(len(d[i])):\n",
        "    print(d[i][j],end=\" \")\n",
        "  print(\"\")\n",
        "\n"
      ]
    }
  ],
  "metadata": {
    "colab": {
      "provenance": [],
      "authorship_tag": "ABX9TyP5mXa3kqnfW1jckNx+/qSP",
      "include_colab_link": true
    },
    "kernelspec": {
      "display_name": "Python 3",
      "name": "python3"
    },
    "language_info": {
      "name": "python"
    }
  },
  "nbformat": 4,
  "nbformat_minor": 0
}