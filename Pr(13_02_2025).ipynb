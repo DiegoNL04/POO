{
  "nbformat": 4,
  "nbformat_minor": 0,
  "metadata": {
    "colab": {
      "provenance": [],
      "authorship_tag": "ABX9TyOjYP54DSWrYwDgvkTpVJQz",
      "include_colab_link": true
    },
    "kernelspec": {
      "name": "python3",
      "display_name": "Python 3"
    },
    "language_info": {
      "name": "python"
    }
  },
  "cells": [
    {
      "cell_type": "markdown",
      "metadata": {
        "id": "view-in-github",
        "colab_type": "text"
      },
      "source": [
        "<a href=\"https://colab.research.google.com/github/DiegoNL04/POO/blob/main/Pr(13_02_2025).ipynb\" target=\"_parent\"><img src=\"https://colab.research.google.com/assets/colab-badge.svg\" alt=\"Open In Colab\"/></a>"
      ]
    },
    {
      "cell_type": "code",
      "execution_count": 15,
      "metadata": {
        "colab": {
          "base_uri": "https://localhost:8080/"
        },
        "id": "dDmfPx5u48au",
        "outputId": "2a3c9a3e-3809-4646-a187-267cd8ad760e"
      },
      "outputs": [
        {
          "output_type": "stream",
          "name": "stdout",
          "text": [
            "ingresa el 1er numero:2\n",
            "ingresa el 2do numero:2\n",
            "La suma de los valores es: 4\n"
          ]
        }
      ],
      "source": [
        "class operaciones():\n",
        "  def __init__(self,a,b):\n",
        "    self.a=a\n",
        "    self.b=b\n",
        "\n",
        "  def suma(self):\n",
        "    self.res=self.a+self.b\n",
        "    return self.res\n",
        "\n",
        "a=int(input(\"ingresa el 1er numero:\"))\n",
        "b=int(input(\"ingresa el 2do numero:\"))\n",
        "obj=operaciones(a,b)\n",
        "res=obj.suma()\n",
        "print(\"La suma de los valores es:\",res)\n",
        "\n",
        "\n",
        "\n"
      ]
    }
  ]
}