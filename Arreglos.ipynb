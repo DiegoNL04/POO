{
  "nbformat": 4,
  "nbformat_minor": 0,
  "metadata": {
    "colab": {
      "provenance": [],
      "authorship_tag": "ABX9TyNXr7mSaYb5VEUuiPSNHsfK",
      "include_colab_link": true
    },
    "kernelspec": {
      "name": "python3",
      "display_name": "Python 3"
    },
    "language_info": {
      "name": "python"
    }
  },
  "cells": [
    {
      "cell_type": "markdown",
      "metadata": {
        "id": "view-in-github",
        "colab_type": "text"
      },
      "source": [
        "<a href=\"https://colab.research.google.com/github/DiegoNL04/POO/blob/main/Arreglos.ipynb\" target=\"_parent\"><img src=\"https://colab.research.google.com/assets/colab-badge.svg\" alt=\"Open In Colab\"/></a>"
      ]
    },
    {
      "cell_type": "code",
      "execution_count": 2,
      "metadata": {
        "colab": {
          "base_uri": "https://localhost:8080/"
        },
        "id": "7MRoJ_Wf9BOP",
        "outputId": "5fd18bb7-e818-432d-f9b8-c45f347abdc8"
      },
      "outputs": [
        {
          "output_type": "stream",
          "name": "stdout",
          "text": [
            "20\n",
            "41\n",
            "6\n",
            "18\n",
            "23\n",
            "20\n",
            "41\n",
            "6\n",
            "18\n",
            "23\n",
            "20\n",
            "41\n",
            "6\n",
            "18\n",
            "23\n"
          ]
        }
      ],
      "source": [
        "edades = [20, 41, 6, 18, 23]\n",
        "# Recorriendo los elementos\n",
        "for edad in edades:\n",
        " print(edad)\n",
        "# Recorriendo los índices\n",
        "for i in range(len(edades)):\n",
        " print(edades[i])\n",
        "# Con while y los índices\n",
        "indice = 0\n",
        "while indice < len(edades):\n",
        " print(edades[indice])\n",
        " indice += 1\n",
        "\n"
      ]
    },
    {
      "cell_type": "code",
      "source": [
        "números = []\n",
        "números.append(10)\n",
        "números.append(5)\n",
        "números.append(3)\n",
        "print(números)\n",
        "# Mostrará [10, 5, 3]"
      ],
      "metadata": {
        "colab": {
          "base_uri": "https://localhost:8080/"
        },
        "id": "ib2tRPbPAbTN",
        "outputId": "702cdd81-d1e9-4766-bf35-61b93bf73ede"
      },
      "execution_count": 49,
      "outputs": [
        {
          "output_type": "stream",
          "name": "stdout",
          "text": [
            "[10, 5, 3]\n"
          ]
        }
      ]
    },
    {
      "cell_type": "code",
      "source": [
        "números = []\n",
        "# Unimos la lista anterior con una nueva\n",
        "números = números + [10, 5, 3]\n",
        "print(números)\n",
        "# Mostrará [10, 5, 3]"
      ],
      "metadata": {
        "colab": {
          "base_uri": "https://localhost:8080/"
        },
        "id": "s1TjRUjLA86N",
        "outputId": "b14dc377-9768-47f6-ec24-86419a3c19a9"
      },
      "execution_count": 50,
      "outputs": [
        {
          "output_type": "stream",
          "name": "stdout",
          "text": [
            "[10, 5, 3]\n"
          ]
        }
      ]
    },
    {
      "cell_type": "code",
      "source": [
        "palabras = ['hola', 'hello', 'ola']\n",
        "palabras.remove('hello')\n",
        "print(palabras)\n",
        "# Mostrará ['hola', 'ola']"
      ],
      "metadata": {
        "colab": {
          "base_uri": "https://localhost:8080/"
        },
        "id": "G1UTjHuTBVPc",
        "outputId": "a5ccbc1b-5296-474b-98f0-deac8fc9a920"
      },
      "execution_count": 51,
      "outputs": [
        {
          "output_type": "stream",
          "name": "stdout",
          "text": [
            "['hola', 'ola']\n"
          ]
        }
      ]
    },
    {
      "cell_type": "code",
      "source": [
        "# Creamos las listas (vacías al comienzo)\n",
        "nombres = []\n",
        "identificaciones = []\n",
        "# Definimos un tamaño para las listas\n",
        "# Lo puedes cambiar si quieres\n",
        "respuesta = \"s\"\n",
        "tam = 0\n",
        "# Leemos los datos y los agregamos a la lista\n",
        "while respuesta==\"s\":\n",
        " print(\"Ingrese los datos de la persona\", tam + 1)\n",
        " nombre = input(\"Nombre: \")\n",
        " identificación = input(\"Identificación: \")\n",
        " nombres.append(nombre)\n",
        " identificaciones.append(identificación)\n",
        " tam+=1\n",
        " respuesta=input(\"Quieres otro dato? s/n\")\n",
        "for i in range(tam):\n",
        " print(\"Mostrando los datos de la persona\", i + 1)\n",
        " print(\"Nombre:\", nombres[i])\n",
        " print(\"Identificación:\", identificaciones[i])\n"
      ],
      "metadata": {
        "colab": {
          "base_uri": "https://localhost:8080/"
        },
        "id": "4PcQsWy9Do-f",
        "outputId": "e8c2f484-58c4-4ad8-d693-caf6966abfeb"
      },
      "execution_count": 81,
      "outputs": [
        {
          "output_type": "stream",
          "name": "stdout",
          "text": [
            "Ingrese los datos de la persona 1\n",
            "Nombre: diego\n",
            "Identificación: 24590589\n",
            "Quieres otro dato? s/ns\n",
            "Ingrese los datos de la persona 2\n",
            "Nombre: uriel\n",
            "Identificación: 24590579\n",
            "Quieres otro dato? s/nn\n",
            "Mostrando los datos de la persona 1\n",
            "Nombre: diego\n",
            "Identificación: 24590589\n",
            "Mostrando los datos de la persona 2\n",
            "Nombre: uriel\n",
            "Identificación: 24590579\n"
          ]
        }
      ]
    }
  ]
}