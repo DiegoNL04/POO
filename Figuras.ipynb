{
  "nbformat": 4,
  "nbformat_minor": 0,
  "metadata": {
    "colab": {
      "provenance": [],
      "authorship_tag": "ABX9TyPu7FqOFonuESmUDWT5Ehen",
      "include_colab_link": true
    },
    "kernelspec": {
      "name": "python3",
      "display_name": "Python 3"
    },
    "language_info": {
      "name": "python"
    }
  },
  "cells": [
    {
      "cell_type": "markdown",
      "metadata": {
        "id": "view-in-github",
        "colab_type": "text"
      },
      "source": [
        "<a href=\"https://colab.research.google.com/github/DiegoNL04/POO/blob/main/Figuras.ipynb\" target=\"_parent\"><img src=\"https://colab.research.google.com/assets/colab-badge.svg\" alt=\"Open In Colab\"/></a>"
      ]
    },
    {
      "cell_type": "code",
      "execution_count": null,
      "metadata": {
        "colab": {
          "base_uri": "https://localhost:8080/"
        },
        "id": "v63FLXaG1Jwj",
        "outputId": "116cbecb-3d1d-4a42-f160-7542caee805d"
      },
      "outputs": [
        {
          "name": "stdout",
          "output_type": "stream",
          "text": [
            "Dame la primera medida: 3\n"
          ]
        }
      ],
      "source": [
        "class Areas:\n",
        "    def _init_(self, a, b, pi=3.14):\n",
        "        self.a = a\n",
        "        self.b = b\n",
        "        self.pi = pi\n",
        "\n",
        "    def Circulo(self):\n",
        "        self.result1 = (self.a * self.a) * self.pi\n",
        "        return self.result1\n",
        "\n",
        "    def Triangulo(self):\n",
        "        self.result2 = (self.a * self.b) / 2\n",
        "        return self.result2\n",
        "\n",
        "v1 = int(input(\"Dame la primera medida: \"))\n",
        "v2 = int(input(\"Dame la segunda medida: \"))\n",
        "obj = Areas(v1, v2)\n",
        "result2 = obj.Triangulo()\n",
        "print(\"El área del Triángulo es:\", result2)\n",
        "\n",
        "v1 = int(input(\"Dame el valor del radio: \"))\n",
        "obj = Areas(v1, v1)\n",
        "result1 = obj.Circulo()\n",
        "print(\"El área del Círculo es:\", result1)"
      ]
    }
  ]
}