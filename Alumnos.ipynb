{
  "nbformat": 4,
  "nbformat_minor": 0,
  "metadata": {
    "colab": {
      "provenance": [],
      "authorship_tag": "ABX9TyNvJMmI5di/YJaN3lctAgdr",
      "include_colab_link": true
    },
    "kernelspec": {
      "name": "python3",
      "display_name": "Python 3"
    },
    "language_info": {
      "name": "python"
    }
  },
  "cells": [
    {
      "cell_type": "markdown",
      "metadata": {
        "id": "view-in-github",
        "colab_type": "text"
      },
      "source": [
        "<a href=\"https://colab.research.google.com/github/DiegoNL04/POO/blob/main/Alumnos.ipynb\" target=\"_parent\"><img src=\"https://colab.research.google.com/assets/colab-badge.svg\" alt=\"Open In Colab\"/></a>"
      ]
    },
    {
      "cell_type": "code",
      "execution_count": 3,
      "metadata": {
        "colab": {
          "base_uri": "https://localhost:8080/"
        },
        "id": "IyWm1oPcPgar",
        "outputId": "887fdbf3-9eb8-4f02-9448-4a4845f91e37"
      },
      "outputs": [
        {
          "output_type": "stream",
          "name": "stdout",
          "text": [
            "Ingrese el nombre del alumno (o 'salir' para terminar): Diego\n",
            "Ingrese la edad del alumno: 18\n",
            "Ingrese el sexo del alumno (masculino/femenino): Masculino\n",
            "Ingrese el nombre del alumno (o 'salir' para terminar): Jenny\n",
            "Ingrese la edad del alumno: 18\n",
            "Ingrese el sexo del alumno (masculino/femenino): Femenino\n",
            "Ingrese el nombre del alumno (o 'salir' para terminar): salir\n",
            "Total de alumnos: 2\n",
            "Hombres: 1\n",
            "Mujeres: 1\n",
            "Promedio de edades: 18.00\n"
          ]
        }
      ],
      "source": [
        "class Alumno:\n",
        "    def __init__(self, nombre, edad, sexo):\n",
        "        self.nombre = nombre\n",
        "        self.edad = edad\n",
        "        self.sexo = sexo\n",
        "\n",
        "class Escuela:\n",
        "    def __init__(self):\n",
        "        self.alumnos = []\n",
        "        self.cantidad_hombres = 0\n",
        "        self.cantidad_mujeres = 0\n",
        "\n",
        "    def agregar_alumno(self, alumno):\n",
        "        self.alumnos.append(alumno)\n",
        "        if alumno.sexo.lower() == 'masculino' or alumno.sexo.lower() == 'Masculino':\n",
        "            self.cantidad_hombres += 1\n",
        "        elif alumno.sexo.lower() == 'femenino' or alumno.sexo.lower() == 'Femenino':\n",
        "            self.cantidad_mujeres += 1\n",
        "\n",
        "    def calcular_promedio_edades(self):\n",
        "        if len(self.alumnos) == 0:\n",
        "            return 0\n",
        "        total_edades = sum(alumno.edad for alumno in self.alumnos)\n",
        "        return total_edades / len(self.alumnos)\n",
        "\n",
        "    def imprimir_info(self):\n",
        "        promedio_edades = self.calcular_promedio_edades()\n",
        "        print(f\"Total de alumnos: {len(self.alumnos)}\")\n",
        "        print(f\"Hombres: {self.cantidad_hombres}\")\n",
        "        print(f\"Mujeres: {self.cantidad_mujeres}\")\n",
        "        print(f\"Promedio de edades: {promedio_edades:.2f}\")\n",
        "\n",
        "# Función principal\n",
        "def main():\n",
        "    escuela = Escuela()\n",
        "\n",
        "    while True:\n",
        "        nombre = input(\"Ingrese el nombre del alumno (o 'salir' para terminar): \")\n",
        "        if nombre.lower() == 'salir':\n",
        "            break\n",
        "        edad = int(input(\"Ingrese la edad del alumno: \"))\n",
        "        sexo = input(\"Ingrese el sexo del alumno (masculino/femenino): \").lower()\n",
        "\n",
        "        alumno = Alumno(nombre, edad, sexo)\n",
        "        escuela.agregar_alumno(alumno)\n",
        "\n",
        "    escuela.imprimir_info()\n",
        "\n",
        "# Llamar a la función principal\n",
        "if __name__ == \"__main__\":\n",
        "    main()\n",
        ""
      ]
    }
  ]
}