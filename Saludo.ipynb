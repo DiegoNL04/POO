{
  "nbformat": 4,
  "nbformat_minor": 0,
  "metadata": {
    "colab": {
      "provenance": [],
      "authorship_tag": "ABX9TyMpBSsGnA8867LnZmFwtueK",
      "include_colab_link": true
    },
    "kernelspec": {
      "name": "python3",
      "display_name": "Python 3"
    },
    "language_info": {
      "name": "python"
    }
  },
  "cells": [
    {
      "cell_type": "markdown",
      "metadata": {
        "id": "view-in-github",
        "colab_type": "text"
      },
      "source": [
        "<a href=\"https://colab.research.google.com/github/DiegoNL04/POO/blob/main/Saludo.ipynb\" target=\"_parent\"><img src=\"https://colab.research.google.com/assets/colab-badge.svg\" alt=\"Open In Colab\"/></a>"
      ]
    },
    {
      "cell_type": "markdown",
      "source": [
        "Programa hecho por: Diego Narvaez Lara\n",
        "Fecha:6/Febrero/2025\n"
      ],
      "metadata": {
        "id": "F21WqKI17T1I"
      }
    },
    {
      "cell_type": "code",
      "execution_count": 3,
      "metadata": {
        "id": "onq2P6Ka3CvL",
        "colab": {
          "base_uri": "https://localhost:8080/"
        },
        "outputId": "20143eb4-142d-4981-fcf0-b1e3f0804517"
      },
      "outputs": [
        {
          "output_type": "stream",
          "name": "stdout",
          "text": [
            "hola Diego Narvaez Lara\n"
          ]
        }
      ],
      "source": [
        "class Saludo:\n",
        "  def __init__(self):\n",
        "    self.nombre=\"Diego Narvaez Lara\"\n",
        "\n",
        "  def salida(self):\n",
        "    print(\"hola\", self.nombre)\n",
        "\n",
        "x=Saludo()\n",
        "x.salida()"
      ]
    },
    {
      "cell_type": "code",
      "source": [],
      "metadata": {
        "id": "WuDQ7C8M7r1I"
      },
      "execution_count": null,
      "outputs": []
    }
  ]
}